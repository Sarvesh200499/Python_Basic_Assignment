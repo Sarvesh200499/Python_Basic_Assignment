{
 "cells": [
  {
   "cell_type": "markdown",
   "id": "6a64cecb-8961-44bb-b48c-6f6966728e85",
   "metadata": {},
   "source": [
    "Q1. What is multiprocessing in python? Why is it useful?"
   ]
  },
  {
   "cell_type": "markdown",
   "id": "2edef8ed-1f59-422a-9f1b-daa45b9480d6",
   "metadata": {},
   "source": [
    " - Multiprocessing in Python is a built-in package that allows the system to run multiple processes simultaneously. It will enable the breaking of applications into smaller threads that can run independently.\n",
    "- Performing multiple operations for a single processor becomes challenging. As the number of processes keeps increasing, the processor will have to halt the current process and move to the next, to keep them going. Thus, it will have to interrupt each task, thereby hampering the performance.\n",
    "- The operating system can then allocate all these threads or processes to the processor to run them parallelly, thus improving the overall performance and efficiency."
   ]
  },
  {
   "cell_type": "markdown",
   "id": "7c21e546-a8aa-457d-97d1-0782c3fca512",
   "metadata": {},
   "source": [
    "Q2. What are the differences between multiprocessing and multithreading?"
   ]
  },
  {
   "cell_type": "markdown",
   "id": "4de3bd71-1186-4239-bd62-229c0097b32a",
   "metadata": {},
   "source": [
    "- Multiprocessing: Multiprocessing is a system that has more than one or two processors. In Multiprocessing, CPUs are added for increasing computing speed of the system. Because of Multiprocessing, There are many processes are executed simultaneously.\n",
    "- Multithreading: Multithreading is a system in which multiple threads are created of a process for increasing the computing speed of the system. In multithreading, many threads of a process are executed simultaneously and process creation in multithreading is done according to economical. "
   ]
  },
  {
   "cell_type": "markdown",
   "id": "9396ccd7-87d1-4c7d-af86-8c0e06e3767b",
   "metadata": {},
   "source": [
    "Q3. Write a python code to create a process using the multiprocessing module."
   ]
  },
  {
   "cell_type": "code",
   "execution_count": 1,
   "id": "e345f6e5-385f-4f15-9540-8ce9f6fedad5",
   "metadata": {},
   "outputs": [
    {
     "name": "stdout",
     "output_type": "stream",
     "text": [
      "This is my main program\n",
      "This is my multiprocess line\n"
     ]
    }
   ],
   "source": [
    "import multiprocessing\n",
    "\n",
    "def test():\n",
    "    print(\"This is my multiprocess line\")\n",
    "    \n",
    "if __name__ == \"__main__\":\n",
    "    a = multiprocessing.Process(target=test)\n",
    "    print(\"This is my main program\")\n",
    "    \n",
    "    a.start()\n",
    "    a.join()"
   ]
  },
  {
   "cell_type": "markdown",
   "id": "3328d3e9-6be8-4c72-b1ea-b58274d7dfab",
   "metadata": {},
   "source": [
    "Q4. What is a multiprocessing pool in python? Why is it used?"
   ]
  },
  {
   "cell_type": "markdown",
   "id": "412585cd-bb1f-433c-b852-bd3b731d44c5",
   "metadata": {},
   "source": [
    "A multiprocessing pool is a feature provided by the multiprocessing module that enables you to distribute work across multiple processes in a pool of workers.\n",
    "Some common use cases for multiprocessing pools include:\n",
    "\n",
    "- Processing large amounts of data concurrently.\n",
    "- Parallelizing CPU-intensive computations.\n",
    "- Performing I/O-bound operations (like file I/O or network requests) concurrently."
   ]
  },
  {
   "cell_type": "markdown",
   "id": "59d99395-9cda-4eef-b980-95b32be935b4",
   "metadata": {},
   "source": [
    "Q5. How can we create a pool of worker processes in python using the multiprocessing module?"
   ]
  },
  {
   "cell_type": "code",
   "execution_count": 6,
   "id": "a7baa3f4-a31b-489d-be5d-0006eec918a6",
   "metadata": {},
   "outputs": [
    {
     "name": "stdout",
     "output_type": "stream",
     "text": [
      "[1, 4, 9, 16, 25, 36, 49, 64, 81]\n"
     ]
    }
   ],
   "source": [
    "import multiprocessing\n",
    "\n",
    "def square(x):\n",
    "    return x**2\n",
    "\n",
    "if __name__ == \"__main__\":\n",
    "    with multiprocessing.Pool(processes=5) as pool:\n",
    "        out = pool.map(square, [1,2,3,4,5,6,7,8,9])\n",
    "        print(out)"
   ]
  },
  {
   "cell_type": "markdown",
   "id": "f5419ee3-c5a1-4df4-b988-8cf466c829e8",
   "metadata": {},
   "source": [
    "Q6. Write a python program to create 4 processes, each process should print a different number using the\n",
    "multiprocessing module in python."
   ]
  },
  {
   "cell_type": "code",
   "execution_count": 11,
   "id": "ddf07b96-4ad8-4f1b-b750-57f3d6b59c2b",
   "metadata": {},
   "outputs": [
    {
     "name": "stdout",
     "output_type": "stream",
     "text": [
      "Process-19 prints:\n",
      "Process-20  0prints:\n",
      "\n",
      " Process-211 \n",
      "prints:\n",
      " Process-222 \n",
      "prints:\n",
      " 3\n"
     ]
    }
   ],
   "source": [
    "import multiprocessing\n",
    "\n",
    "def print_number(number):\n",
    "    print(multiprocessing.current_process().name, \"prints:\\n\", number)\n",
    "\n",
    "if __name__ == \"__main__\":\n",
    "    processes = []\n",
    "    for i in range(4):\n",
    "        process = multiprocessing.Process(target=print_number, args=(i,))\n",
    "        processes.append(process)\n",
    "        process.start()\n",
    "\n",
    "    for process in processes:\n",
    "        process.join()\n"
   ]
  }
 ],
 "metadata": {
  "kernelspec": {
   "display_name": "Python 3 (ipykernel)",
   "language": "python",
   "name": "python3"
  },
  "language_info": {
   "codemirror_mode": {
    "name": "ipython",
    "version": 3
   },
   "file_extension": ".py",
   "mimetype": "text/x-python",
   "name": "python",
   "nbconvert_exporter": "python",
   "pygments_lexer": "ipython3",
   "version": "3.10.8"
  }
 },
 "nbformat": 4,
 "nbformat_minor": 5
}
