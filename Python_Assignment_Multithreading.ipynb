{
 "cells": [
  {
   "cell_type": "markdown",
   "id": "dfe58018-98f4-43d6-b5bd-8859137809bb",
   "metadata": {},
   "source": [
    "Q1. What is multithreading in python? Why is it used? Name the module used to handle threads in python."
   ]
  },
  {
   "cell_type": "markdown",
   "id": "b64fd3c0-17cc-4715-9cc7-e6adb229fa32",
   "metadata": {},
   "source": [
    "Multithreading is defined as the ability of a processor to execute multiple threads concurrently. In a simple, single-core CPU, it is achieved using frequent switching between threads. This is termed context switching.\n",
    "\n",
    "Python multithreading enables efficient utilization of the resources as the threads share the data space and memory. Multithreading in Python allows the concurrent and parallel occurrence of various tasks. It causes a reduction in time consumption or response time, thereby increasing the performance.\n",
    "\n",
    "Threading module is used to handle threads in python."
   ]
  },
  {
   "cell_type": "markdown",
   "id": "09198ab2-0bbe-4095-acad-b32208dce1f1",
   "metadata": {},
   "source": [
    "Q2. Why threading module used? Write the use of the following functions:\n",
    "1. activeCount()\n",
    "2. currentThread()\n",
    "3. enumerate()"
   ]
  },
  {
   "cell_type": "markdown",
   "id": "58393136-a473-4f68-9b41-2fc45e79f145",
   "metadata": {},
   "source": [
    "Threading Modules. The threading module is a high-level implementation of multithreading used to deploy an application in Python. To use multithreading, we need to import the threading module in Python Program.\n",
    "\n",
    "1. activeCount() − Returns the number of thread objects that are active.\n",
    "2. currentThread() − Returns the number of thread objects in the caller's thread control.\n",
    "3. enumerate() − Returns a list of all thread objects that are currently active."
   ]
  },
  {
   "cell_type": "markdown",
   "id": "d686ccda-0f0e-4e25-abba-bd9d60127c6d",
   "metadata": {},
   "source": [
    "Q3. Explain the following functions:\n",
    "1. run()\n",
    "2. start()\n",
    "3. join()\n",
    "4. isAlive()"
   ]
  },
  {
   "cell_type": "markdown",
   "id": "7cc6ce0b-cf63-4895-9d0f-b60f5fe0b4dc",
   "metadata": {},
   "source": [
    "1. run()  − The run() method is the entry point for a thread.\n",
    "2. start()  − The start() method starts a thread by calling the run method.\n",
    "3. join()  − The join() waits for threads to terminate.\n",
    "4. isAlive()  − The isAlive() method checks whether a thread is still executing."
   ]
  },
  {
   "cell_type": "markdown",
   "id": "ff427976-d625-4a6c-9f99-17c7e060e85b",
   "metadata": {},
   "source": [
    "Q4. Write a python program to create two threads. Thread one must print the list of squares and thread two must print the list of cubes."
   ]
  },
  {
   "cell_type": "code",
   "execution_count": 4,
   "id": "c4e553f1-7078-42f7-9ae2-35f57a7ea750",
   "metadata": {},
   "outputs": [
    {
     "name": "stdout",
     "output_type": "stream",
     "text": [
      "Square of the number: 25\n",
      "Cube of the number: 125\n"
     ]
    }
   ],
   "source": [
    "import threading\n",
    "\n",
    "def cube(num):\n",
    "    print(\"Cube of the number: {}\".format(num*num*num))\n",
    "    \n",
    "def square(num):\n",
    "    print(\"Square of the number: {}\".format(num*num))\n",
    "    \n",
    "if __name__ == \"__main__\":\n",
    "    thread1 = threading.Thread(target=square, args=(5,))\n",
    "    thread2 = threading.Thread(target=cube, args=(5,))\n",
    "    \n",
    "    thread1.start()\n",
    "    thread2.start()\n",
    "    \n",
    "    thread1.join()\n",
    "    thread2.join()"
   ]
  },
  {
   "cell_type": "markdown",
   "id": "3a53c265-de72-477f-a0ca-1fdec0e75873",
   "metadata": {},
   "source": [
    "Q5. State advantages and disadvantages of multithreading"
   ]
  },
  {
   "cell_type": "markdown",
   "id": "1305a58b-1454-4e0c-9f06-81633b82d42e",
   "metadata": {},
   "source": [
    "Advantages of a Multithreading:\n",
    "- Improved performance and concurrency\n",
    "- Simplified coding of remote procedure calls and conversations\n",
    "- Simultaneous access to multiple applications\n",
    "- Reduced number of required servers"
   ]
  },
  {
   "cell_type": "markdown",
   "id": "b3c08e65-056a-4336-baa4-c15502a202ee",
   "metadata": {},
   "source": [
    "Disadvantages of a Multithreading:\n",
    "- Difficulty of writing code\n",
    "- Difficulty of debugging\n",
    "- Difficulty of managing concurrency\n",
    "- Difficulty of testing"
   ]
  },
  {
   "cell_type": "markdown",
   "id": "8dc82118-8095-4844-ad36-029a0335465c",
   "metadata": {},
   "source": [
    "Q6. Explain deadlocks and race conditions."
   ]
  },
  {
   "cell_type": "markdown",
   "id": "8150c4f4-2aad-40af-8bcb-6e872c23b8f6",
   "metadata": {},
   "source": [
    "- A race condition occurs when two threads use the same variable at a given time. \n",
    "- Deadlock exists when two threads seek one lock simultaneously.  \n",
    "- This situation will stop both threads from processing or executing the functions. \n",
    "- In racing, two tasks compete with each other and try to complete a task before each other.\n",
    "- In a deadlock, two processes are waiting and expecting the complementary process to complete the task."
   ]
  },
  {
   "cell_type": "code",
   "execution_count": null,
   "id": "678af0bf-11ac-4097-bbe5-d85c69e0caa3",
   "metadata": {},
   "outputs": [],
   "source": []
  }
 ],
 "metadata": {
  "kernelspec": {
   "display_name": "Python 3 (ipykernel)",
   "language": "python",
   "name": "python3"
  },
  "language_info": {
   "codemirror_mode": {
    "name": "ipython",
    "version": 3
   },
   "file_extension": ".py",
   "mimetype": "text/x-python",
   "name": "python",
   "nbconvert_exporter": "python",
   "pygments_lexer": "ipython3",
   "version": "3.10.8"
  }
 },
 "nbformat": 4,
 "nbformat_minor": 5
}
