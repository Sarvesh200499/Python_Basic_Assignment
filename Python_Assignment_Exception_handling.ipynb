{
 "cells": [
  {
   "cell_type": "markdown",
   "id": "9e10d1a4-ce28-4c5e-9370-8fcb82d804e2",
   "metadata": {},
   "source": [
    "Q1. What is an exception in python? Write the difference between Exceptions and Syntax errors."
   ]
  },
  {
   "cell_type": "markdown",
   "id": "e757f61e-35f3-4764-9e61-f2f5d294c9fb",
   "metadata": {},
   "source": [
    "Exceptions - Even if a statement or expression is syntactically correct, it may cause an error when an attempt is made to execute it. Errors detected during execution are called exceptions and are not unconditionally fatal."
   ]
  },
  {
   "cell_type": "markdown",
   "id": "3a187d08-8016-4c1e-8f6f-6c6b775d98b5",
   "metadata": {},
   "source": [
    "Syntax Error: As the name suggests this error is caused by the wrong syntax in the code. It leads to the termination of the program. \n",
    "\n",
    "Exceptions: Exceptions are raised when the program is syntactically correct, but the code results in an error. This error does not stop the execution of the program, however, it changes the normal flow of the program."
   ]
  },
  {
   "cell_type": "markdown",
   "id": "4c7c3a28-8062-4ccb-8da4-26f0cf74b8a1",
   "metadata": {},
   "source": [
    "Q2. What happens when an exception is not handled? Explain with an example."
   ]
  },
  {
   "cell_type": "markdown",
   "id": "406fb687-4089-4a2c-8009-f2b00cf16181",
   "metadata": {},
   "source": [
    "When an exception is not handled, it propagates up the call stack until it either reaches the top-level of the program, resulting in the program being terminated, or until it encounters an appropriate exception handler. If no handler is found, the Python interpreter prints an error message, including a traceback, to the console."
   ]
  },
  {
   "cell_type": "code",
   "execution_count": 7,
   "id": "0ec17e47-c7a4-407a-b822-867747f5ba49",
   "metadata": {},
   "outputs": [
    {
     "ename": "ZeroDivisionError",
     "evalue": "division by zero",
     "output_type": "error",
     "traceback": [
      "\u001b[0;31m---------------------------------------------------------------------------\u001b[0m",
      "\u001b[0;31mZeroDivisionError\u001b[0m                         Traceback (most recent call last)",
      "Cell \u001b[0;32mIn[7], line 4\u001b[0m\n\u001b[1;32m      1\u001b[0m \u001b[38;5;66;03m#example this will give a zero divison error\u001b[39;00m\n\u001b[1;32m      3\u001b[0m a \u001b[38;5;241m=\u001b[39m \u001b[38;5;241m10\u001b[39m\n\u001b[0;32m----> 4\u001b[0m \u001b[43ma\u001b[49m\u001b[38;5;241;43m/\u001b[39;49m\u001b[38;5;241;43m0\u001b[39;49m\n",
      "\u001b[0;31mZeroDivisionError\u001b[0m: division by zero"
     ]
    }
   ],
   "source": [
    "#example this will give a zero divison error\n",
    "\n",
    "a = 10\n",
    "a/0"
   ]
  },
  {
   "cell_type": "code",
   "execution_count": 9,
   "id": "08255adc-1012-46f2-9643-6d663b3de8ca",
   "metadata": {},
   "outputs": [
    {
     "name": "stdout",
     "output_type": "stream",
     "text": [
      "You are dividing by zero \n"
     ]
    }
   ],
   "source": [
    "# using try and except\n",
    "def divide(a, b):\n",
    "\ttry:\n",
    "\t\tresult = a / b\n",
    "\t\tprint(\"Your answer is :\", result)\n",
    "\texcept ZeroDivisionError:\n",
    "\t\tprint(\"You are dividing by zero \")\n",
    "\n",
    "\n",
    "divide(3, 0)\n"
   ]
  },
  {
   "cell_type": "markdown",
   "id": "75c71193-2fcb-4d77-b1d5-219a19322876",
   "metadata": {},
   "source": [
    "Q3. Explain with an example\n",
    "- try and except\n",
    "- finally\n",
    "- raise"
   ]
  },
  {
   "cell_type": "code",
   "execution_count": 1,
   "id": "6d581a4c-529e-4dec-84d8-665b6241c513",
   "metadata": {},
   "outputs": [
    {
     "name": "stdout",
     "output_type": "stream",
     "text": [
      "You are dividing by zero \n"
     ]
    }
   ],
   "source": [
    "# using try and except\n",
    "def divide(a, b):\n",
    "\ttry:\n",
    "\t\tresult = a / b\n",
    "\t\tprint(\"Your answer is :\", result)\n",
    "\texcept ZeroDivisionError:\n",
    "\t\tprint(\"You are dividing by zero \")\n",
    "\n",
    "\n",
    "divide(8, 0)"
   ]
  },
  {
   "cell_type": "code",
   "execution_count": 11,
   "id": "8dbee3b2-b8b1-46df-a78f-f8d0d14cad7b",
   "metadata": {},
   "outputs": [
    {
     "name": "stdout",
     "output_type": "stream",
     "text": [
      "You are dividing by zero \n",
      "this will always execute\n"
     ]
    }
   ],
   "source": [
    "# using finally\n",
    "\n",
    "try:\n",
    "\tresult = 7 / 0\n",
    "\tprint(\"Your answer is :\", result)\n",
    "except ZeroDivisionError:\n",
    "\tprint(\"You are dividing by zero \")\n",
    "finally:\n",
    "    print(\"this will always execute\")\n",
    "\n"
   ]
  },
  {
   "cell_type": "code",
   "execution_count": 3,
   "id": "a5130a03-b478-4ed8-b1cd-cb18783e0bd3",
   "metadata": {},
   "outputs": [
    {
     "name": "stdout",
     "output_type": "stream",
     "text": [
      "Error:  cannot divide by zero\n",
      "Answer:  5.0\n"
     ]
    }
   ],
   "source": [
    "# using raise\n",
    "\n",
    "def divide_num(a,b):\n",
    "    if b == 0:\n",
    "        raise ValueError (\"cannot divide by zero\")\n",
    "    return a/b\n",
    "#Example divide by error\n",
    "try:\n",
    "    result = divide_num(5,0)\n",
    "    print (\"Answer: \", result)\n",
    "except ValueError as e:\n",
    "    print (\"Error: \", e)\n",
    "\n",
    "#Example not divide by zero\n",
    "try:\n",
    "    result = divide_num(10,2)\n",
    "    print (\"Answer: \", result)\n",
    "except ValueError as e:\n",
    "    print (\"Error: \", e)"
   ]
  },
  {
   "cell_type": "markdown",
   "id": "b23ca292-6d98-46ba-b9ee-89dd4633adc8",
   "metadata": {},
   "source": [
    "Q4. What are the custom exception in python? Why do we need Custom Exception? Explain with an example."
   ]
  },
  {
   "cell_type": "markdown",
   "id": "1d60fdd7-68e9-41ba-a19b-5e9ee371e891",
   "metadata": {},
   "source": [
    "Custom exceptions are useful when you want to handle specific errors in your code that aren't adequately represented by the built-in exceptions.\n",
    "In Python, we can create custom exceptions by defining a new class that inherits from the built-in Exception class or one of its subclasses."
   ]
  },
  {
   "cell_type": "code",
   "execution_count": 5,
   "id": "3edc4360-911b-4dc7-9a86-31055c769db8",
   "metadata": {},
   "outputs": [
    {
     "name": "stdin",
     "output_type": "stream",
     "text": [
      "Enter a number:  15\n"
     ]
    },
    {
     "name": "stdout",
     "output_type": "stream",
     "text": [
      "Exception occurred: Invalid Age\n"
     ]
    }
   ],
   "source": [
    "# define Python user-defined exceptions\n",
    "class InvalidAgeException(Exception):\n",
    "    \"Raised when the input value is less than 18\"\n",
    "    pass\n",
    "\n",
    "# you need to guess this number\n",
    "number = 18\n",
    "\n",
    "try:\n",
    "    input_num = int(input(\"Enter a number: \"))\n",
    "    if input_num < number:\n",
    "        raise InvalidAgeException\n",
    "    else:\n",
    "        print(\"Eligible to Vote\")\n",
    "        \n",
    "except InvalidAgeException:\n",
    "    print(\"Exception occurred: Invalid Age\")"
   ]
  },
  {
   "cell_type": "markdown",
   "id": "6df3bdd7-175c-4f0d-a1f1-5977d7e7ac98",
   "metadata": {},
   "source": [
    "Q6. Create a custom exception class. Use this class to handle an exception."
   ]
  },
  {
   "cell_type": "code",
   "execution_count": 6,
   "id": "c46e4048-4516-4441-af18-cb13fc688842",
   "metadata": {},
   "outputs": [
    {
     "name": "stdout",
     "output_type": "stream",
     "text": [
      "Error: Insufficient funds. Balance: 1000, Attempted Withdrawal: 1500\n"
     ]
    }
   ],
   "source": [
    "class InsufficientFundsError(Exception):\n",
    "    def __init__(self, balance, amount):\n",
    "        self.balance = balance\n",
    "        self.amount = amount\n",
    "        super().__init__(f\"Insufficient funds. Balance: {balance}, Attempted Withdrawal: {amount}\")\n",
    "\n",
    "class BankAccount:\n",
    "    def __init__(self, balance):\n",
    "        self.balance = balance\n",
    "\n",
    "    def withdraw(self, amount):\n",
    "        if amount > self.balance:\n",
    "            raise InsufficientFundsError(self.balance, amount)\n",
    "        else:\n",
    "            self.balance -= amount\n",
    "            print(f\"Withdrawal of {amount} successful. Remaining balance: {self.balance}\")\n",
    "\n",
    "# Example usage\n",
    "account = BankAccount(1000)\n",
    "\n",
    "try:\n",
    "    account.withdraw(1500)\n",
    "except InsufficientFundsError as e:\n",
    "    print(f\"Error: {e}\")\n"
   ]
  },
  {
   "cell_type": "code",
   "execution_count": null,
   "id": "139df214-153c-4299-80d4-750587060dd6",
   "metadata": {},
   "outputs": [],
   "source": []
  }
 ],
 "metadata": {
  "kernelspec": {
   "display_name": "Python 3 (ipykernel)",
   "language": "python",
   "name": "python3"
  },
  "language_info": {
   "codemirror_mode": {
    "name": "ipython",
    "version": 3
   },
   "file_extension": ".py",
   "mimetype": "text/x-python",
   "name": "python",
   "nbconvert_exporter": "python",
   "pygments_lexer": "ipython3",
   "version": "3.10.8"
  }
 },
 "nbformat": 4,
 "nbformat_minor": 5
}
