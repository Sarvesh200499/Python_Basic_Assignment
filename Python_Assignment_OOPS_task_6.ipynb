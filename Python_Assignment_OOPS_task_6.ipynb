{
 "cells": [
  {
   "cell_type": "markdown",
   "id": "c308ed47-2ac7-4cbc-8830-b46cae1e495c",
   "metadata": {},
   "source": [
    "Q1. Create a vehicle class with an init method having instance variables as name_of_vehicle, max_speed\n",
    "and average_of_vehicle."
   ]
  },
  {
   "cell_type": "code",
   "execution_count": 4,
   "id": "3137953a-49da-4208-8cd3-5223d110e600",
   "metadata": {},
   "outputs": [
    {
     "name": "stdout",
     "output_type": "stream",
     "text": [
      "Name of Vehicle: Car\n",
      "Max Speed: 300\n",
      "Average: 35\n"
     ]
    }
   ],
   "source": [
    "class Vehicle:\n",
    "    def __init__(self, name_of_vehicle, max_speed, average_of_vehicle):\n",
    "        self.name_of_vehicle = name_of_vehicle\n",
    "        self.max_speed = max_speed\n",
    "        self.average_of_vehicle = average_of_vehicle\n",
    "        \n",
    "C1 = Vehicle(\"Car\", 300, 35)\n",
    "\n",
    "print(f\"Name of Vehicle: {C1.name_of_vehicle}\")\n",
    "print(f\"Max Speed: {C1.max_speed}\")\n",
    "print(f\"Average: {C1.average_of_vehicle}\")"
   ]
  },
  {
   "cell_type": "markdown",
   "id": "97da2cf7-9030-4738-abc9-83022fbdf0d3",
   "metadata": {},
   "source": [
    "Q2. Create a child class car from the vehicle class created in Que 1, which will inherit the vehicle class.\n",
    "Create a method named seating_capacity which takes capacity as an argument and returns the name of\n",
    "the vehicle and its seating capacity."
   ]
  },
  {
   "cell_type": "code",
   "execution_count": 13,
   "id": "4b7a41e2-20e4-45e1-8f78-5b505f981e63",
   "metadata": {},
   "outputs": [
    {
     "name": "stdout",
     "output_type": "stream",
     "text": [
      "XUV has seating capactity of 7\n"
     ]
    }
   ],
   "source": [
    "class Car(Vehicle):\n",
    "    def __init__(self, name_of_vehicle, max_speed, average_of_vehicle):\n",
    "        super().__init__(name_of_vehicle, max_speed, average_of_vehicle)\n",
    "    \n",
    "    \n",
    "    def seating_capacity(self, capacity):\n",
    "        self.capacity = capacity\n",
    "        return f\"{self.name_of_vehicle} has seating capactity of {self.capacity}\" \n",
    "\n",
    "C2 = Car(\"XUV\", 250, 25)\n",
    "print(C2.seating_capacity(7))\n",
    "        "
   ]
  },
  {
   "cell_type": "markdown",
   "id": "ec9465db-123d-49a9-9e37-46a30182fa9f",
   "metadata": {},
   "source": [
    "Q3. What is multiple inheritance? Write a python code to demonstrate multiple inheritance."
   ]
  },
  {
   "cell_type": "markdown",
   "id": "cf72fdbe-3acd-4266-9308-758547a37851",
   "metadata": {},
   "source": [
    "#### Multiple Inheritance \n",
    "When a class is derived from more than one base class it is called multiple Inheritance. The derived class inherits all the features of the base case."
   ]
  },
  {
   "cell_type": "code",
   "execution_count": 15,
   "id": "ac04ba57-6009-4585-84ab-6a5556ccff9c",
   "metadata": {},
   "outputs": [
    {
     "name": "stdout",
     "output_type": "stream",
     "text": [
      "Father : RAM\n",
      "Mother : SITA\n"
     ]
    }
   ],
   "source": [
    "# multiple inheritance\n",
    "\n",
    "# Parent class1\n",
    "class Mother:\n",
    "\tdef mother(self):\n",
    "\t\tself.mothername = mothername\n",
    "\n",
    "# Parent class2\n",
    "class Father:\n",
    "\tdef father(self):\n",
    "\t\tself.fathername = fathername\n",
    "\n",
    "# child class inheriting multiple parent class\n",
    "class Son(Mother, Father):\n",
    "\tdef parents(self):\n",
    "\t\tprint(\"Father :\", self.fathername)\n",
    "\t\tprint(\"Mother :\", self.mothername)\n",
    "\n",
    "\n",
    "# S1 object is able to inherit from multiple clases\n",
    "s1 = Son()\n",
    "s1.fathername = \"RAM\"\n",
    "s1.mothername = \"SITA\"\n",
    "s1.parents()\n"
   ]
  },
  {
   "cell_type": "markdown",
   "id": "f2f60d7f-8285-4438-83e4-a7c3396bae68",
   "metadata": {},
   "source": [
    "Q4. What are getter and setter in python? Create a class and create a getter and a setter method in this\n",
    "class."
   ]
  },
  {
   "cell_type": "markdown",
   "id": "36145a1d-4acd-4d44-81b4-e6934ed376e1",
   "metadata": {},
   "source": [
    "* Getters: These are the methods used in Object-Oriented Programming (OOPS) which helps to access the private attributes from a class.\n",
    "* Setters: These are the methods used in OOPS feature which helps to set the value to private attributes in a class."
   ]
  },
  {
   "cell_type": "code",
   "execution_count": 16,
   "id": "b61ae2a9-9c33-4d1d-a33d-7d51c518fa8a",
   "metadata": {},
   "outputs": [],
   "source": [
    "class Person:\n",
    "    def __init__(self, name, salary):\n",
    "        self.name = name\n",
    "        self.__salary = salary\n",
    "        \n",
    "    @property\n",
    "    def salary_access(self):\n",
    "        return self.__salary\n",
    "    \n",
    "    @salary_access.setter\n",
    "    def salary_set(self, money):\n",
    "        if money <= 30000:\n",
    "            pass\n",
    "        else:\n",
    "            self.__salary = money"
   ]
  },
  {
   "cell_type": "code",
   "execution_count": 17,
   "id": "c318b8bb-9684-48a9-afa9-ff4b2f9ceb02",
   "metadata": {},
   "outputs": [],
   "source": [
    "p1 = Person(\"John\", 40000)"
   ]
  },
  {
   "cell_type": "code",
   "execution_count": 29,
   "id": "b0afcfb3-67a0-4b58-8aa8-4c1a51171fcd",
   "metadata": {},
   "outputs": [
    {
     "data": {
      "text/plain": [
       "'John'"
      ]
     },
     "execution_count": 29,
     "metadata": {},
     "output_type": "execute_result"
    }
   ],
   "source": [
    "p1.name"
   ]
  },
  {
   "cell_type": "code",
   "execution_count": 19,
   "id": "3aff4eb2-e18c-424d-97e6-452fc880fc87",
   "metadata": {},
   "outputs": [
    {
     "data": {
      "text/plain": [
       "40000"
      ]
     },
     "execution_count": 19,
     "metadata": {},
     "output_type": "execute_result"
    }
   ],
   "source": [
    "p1.salary_access"
   ]
  },
  {
   "cell_type": "code",
   "execution_count": 21,
   "id": "1f2ecf9d-026e-42e0-b8e0-157d7dad75d9",
   "metadata": {},
   "outputs": [],
   "source": [
    "p1.salary_set = 20000"
   ]
  },
  {
   "cell_type": "code",
   "execution_count": 22,
   "id": "3dbaac9e-475e-4b01-837b-9336b35b5c2c",
   "metadata": {},
   "outputs": [
    {
     "data": {
      "text/plain": [
       "40000"
      ]
     },
     "execution_count": 22,
     "metadata": {},
     "output_type": "execute_result"
    }
   ],
   "source": [
    "p1.salary_access"
   ]
  },
  {
   "cell_type": "code",
   "execution_count": 23,
   "id": "2efbdc8b-6f98-44d5-99e7-4d4b83d6a812",
   "metadata": {},
   "outputs": [],
   "source": [
    "p1.salary_set = 50000"
   ]
  },
  {
   "cell_type": "code",
   "execution_count": 24,
   "id": "2090a302-fb58-4577-a3df-eb8d92ca725b",
   "metadata": {},
   "outputs": [
    {
     "data": {
      "text/plain": [
       "50000"
      ]
     },
     "execution_count": 24,
     "metadata": {},
     "output_type": "execute_result"
    }
   ],
   "source": [
    "p1.salary_access"
   ]
  },
  {
   "cell_type": "markdown",
   "id": "50ce59ce-727c-40b7-8749-1a9078f4046b",
   "metadata": {},
   "source": [
    "Q5.What is method overriding in python? Write a python code to demonstrate method overriding."
   ]
  },
  {
   "cell_type": "markdown",
   "id": "e961ec87-e9cc-4338-a8cb-cc30213e20dc",
   "metadata": {},
   "source": [
    "* Method overriding in Python occurs when a subclass provides a specific implementation for a method that is already defined in its superclass. \n",
    "* This allows the subclass to provide a specialized version of the method while maintaining the same method signature."
   ]
  },
  {
   "cell_type": "code",
   "execution_count": 30,
   "id": "3621bf66-ab78-4c78-97ff-4f33b8371594",
   "metadata": {},
   "outputs": [
    {
     "name": "stdout",
     "output_type": "stream",
     "text": [
      "Generic animal sound\n",
      "Woof! Woof!\n",
      "Meow!\n"
     ]
    }
   ],
   "source": [
    "class Animal:\n",
    "    def make_sound(self):\n",
    "        print(\"Generic animal sound\")\n",
    "\n",
    "class Dog(Animal):\n",
    "    def make_sound(self):\n",
    "        print(\"Woof! Woof!\")\n",
    "\n",
    "class Cat(Animal):\n",
    "    def make_sound(self):\n",
    "        print(\"Meow!\")\n",
    "\n",
    "# Creating instances of the classes\n",
    "generic_animal = Animal()\n",
    "dog = Dog()\n",
    "cat = Cat()\n",
    "\n",
    "# Calling the make_sound method on each object\n",
    "generic_animal.make_sound()\n",
    "dog.make_sound()            \n",
    "cat.make_sound()             \n"
   ]
  }
 ],
 "metadata": {
  "kernelspec": {
   "display_name": "Python 3 (ipykernel)",
   "language": "python",
   "name": "python3"
  },
  "language_info": {
   "codemirror_mode": {
    "name": "ipython",
    "version": 3
   },
   "file_extension": ".py",
   "mimetype": "text/x-python",
   "name": "python",
   "nbconvert_exporter": "python",
   "pygments_lexer": "ipython3",
   "version": "3.10.8"
  }
 },
 "nbformat": 4,
 "nbformat_minor": 5
}
