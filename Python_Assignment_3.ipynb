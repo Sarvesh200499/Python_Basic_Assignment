{
 "cells": [
  {
   "cell_type": "markdown",
   "id": "79efa39d-8605-4c59-ad4c-9e6311fcc396",
   "metadata": {},
   "source": [
    "Q1. Which keyword is used to create a function? Create a function to return a list of odd numbers in the\n",
    "range of 1 to 25."
   ]
  },
  {
   "cell_type": "markdown",
   "id": "70e0575b-db00-4624-b555-7d4c1da693f0",
   "metadata": {},
   "source": [
    "def key word is used to create a function"
   ]
  },
  {
   "cell_type": "code",
   "execution_count": 5,
   "id": "bed26ac7-aa24-424f-ac91-85e6d30b0a80",
   "metadata": {},
   "outputs": [],
   "source": [
    "def odd_num(x,y):\n",
    "    l = []\n",
    "    for i in range(x,y):\n",
    "        if i % 2 == 1:\n",
    "            l.append(i)\n",
    "    return l "
   ]
  },
  {
   "cell_type": "code",
   "execution_count": 6,
   "id": "6adc1382-edd7-45b0-8c05-881837295fcb",
   "metadata": {},
   "outputs": [
    {
     "data": {
      "text/plain": [
       "[1, 3, 5, 7, 9, 11, 13, 15, 17, 19, 21, 23]"
      ]
     },
     "execution_count": 6,
     "metadata": {},
     "output_type": "execute_result"
    }
   ],
   "source": [
    "odd_num(1,25)"
   ]
  },
  {
   "cell_type": "markdown",
   "id": "80eb160d-81f3-47a7-ba2d-f1bab87ad438",
   "metadata": {},
   "source": [
    "Q2. Why *args and **kwargs is used in some functions? Create a function each for *args and **kwargs to\n",
    "demonstrate their use."
   ]
  },
  {
   "cell_type": "markdown",
   "id": "35235bb8-4d91-4a9e-a080-9c3d297e6282",
   "metadata": {},
   "source": [
    "*args which allow us to pass the variable number of non keyword arguments to function. The arguments are passed as a tuple.\n",
    "\n",
    "**kwargs it allows us to pass the variable length of keyword arguments to the function. The arguments are passed as a dictionary."
   ]
  },
  {
   "cell_type": "code",
   "execution_count": 9,
   "id": "d2cd9e85-f242-409c-8c42-cda4a445e9e7",
   "metadata": {},
   "outputs": [
    {
     "name": "stdout",
     "output_type": "stream",
     "text": [
      "3\n",
      "6\n",
      "10\n"
     ]
    }
   ],
   "source": [
    "def adder(*args):\n",
    "    a = 0\n",
    "    for i in args:\n",
    "        a = a + i \n",
    "    print(a)\n",
    "    \n",
    "adder(1,2)\n",
    "adder(1,2,3)\n",
    "adder(1,2,3,4)"
   ]
  },
  {
   "cell_type": "code",
   "execution_count": 17,
   "id": "24cb8c54-bdce-4b23-8bef-88103b4f3a37",
   "metadata": {},
   "outputs": [
    {
     "name": "stdout",
     "output_type": "stream",
     "text": [
      "name = john\n",
      "age = 26\n",
      "name = virat\n",
      "age = 33\n",
      "country = India\n"
     ]
    }
   ],
   "source": [
    "def details(**kwargs):\n",
    "    for key, values in kwargs.items():\n",
    "        print(\"{} = {}\".format(key, values))\n",
    "        \n",
    "details(name='john', age=26)\n",
    "details(name='virat', age=33, country='India')"
   ]
  },
  {
   "cell_type": "markdown",
   "id": "28cc0d90-c8ad-497e-a286-5d62dee27c9f",
   "metadata": {},
   "source": [
    "Q3. What is an iterator in python? Name the method used to initialise the iterator object and the method\n",
    "used for iteration. Use these methods to print the first five elements of the given list [2, 4, 6, 8, 10, 12, 14, 16,\n",
    "18, 20]."
   ]
  },
  {
   "cell_type": "markdown",
   "id": "3c124631-1024-4b53-aa00-af0b3ee1fff6",
   "metadata": {},
   "source": [
    "In Python, an iterator is an object that represents a stream of data. It allows you to iterate over elements in a collection or sequence one at a time. The iter() function to initialize an iterator object and the next() method to iterate through the elements."
   ]
  },
  {
   "cell_type": "code",
   "execution_count": 18,
   "id": "27f1e682-cc98-4e41-8224-464524f99d01",
   "metadata": {},
   "outputs": [
    {
     "name": "stdout",
     "output_type": "stream",
     "text": [
      "2\n",
      "4\n",
      "6\n",
      "8\n",
      "10\n"
     ]
    }
   ],
   "source": [
    "# Create an iterator object for the list\n",
    "my_list = [2, 4, 6, 8, 10, 12, 14, 16, 18, 20]\n",
    "iterator = iter(my_list)\n",
    "\n",
    "# Use the iterator to print the first five elements\n",
    "for i in range(5):\n",
    "    element = next(iterator)\n",
    "    print(element)\n"
   ]
  },
  {
   "cell_type": "markdown",
   "id": "4f6a022c-d3a2-45bb-8dd8-d0cf7c053f98",
   "metadata": {},
   "source": [
    "Q4. What is a generator function in python? Why yield keyword is used? Give an example of a generator\n",
    "function."
   ]
  },
  {
   "cell_type": "markdown",
   "id": "656f2cea-165c-422f-96df-ac3db913e441",
   "metadata": {},
   "source": [
    "- A generator function in Python is a special type of function that allows you to iterate over a potentially large sequence of values without the need to store them all in memory at once. \n",
    "- Generator functions use the yield keyword to produce a series of values one at a time, making them memory-efficient and suitable for processing large data sets or infinite sequences."
   ]
  },
  {
   "cell_type": "code",
   "execution_count": 22,
   "id": "8da71ba5-cf0f-418e-bf96-a6579ea36cd5",
   "metadata": {},
   "outputs": [
    {
     "data": {
      "text/plain": [
       "<generator object fibonacci_sequence at 0x7fd5141612a0>"
      ]
     },
     "execution_count": 22,
     "metadata": {},
     "output_type": "execute_result"
    }
   ],
   "source": [
    "def fibonacci_sequence(n):\n",
    "    a, b = 0, 1\n",
    "    count = 0\n",
    "    while count < n:\n",
    "        yield a  \n",
    "        a, b = b, a + b \n",
    "        count += 1\n",
    "        \n",
    "fibonacci_sequence(5)"
   ]
  },
  {
   "cell_type": "code",
   "execution_count": 23,
   "id": "6de47bea-ea95-46a6-97bd-4f82c971f5f9",
   "metadata": {},
   "outputs": [
    {
     "data": {
      "text/plain": [
       "[0, 1, 1, 2, 3, 5, 8]"
      ]
     },
     "execution_count": 23,
     "metadata": {},
     "output_type": "execute_result"
    }
   ],
   "source": [
    "list(fibonacci_sequence(7))"
   ]
  },
  {
   "cell_type": "markdown",
   "id": "99822626-4b0a-4bf2-86ab-30ddd4cc71df",
   "metadata": {},
   "source": [
    "Q5. Create a generator function for prime numbers less than 1000. Use the next() method to print the\n",
    "first 20 prime numbers."
   ]
  },
  {
   "cell_type": "code",
   "execution_count": 25,
   "id": "598b3502-595f-4761-86fa-e526a6a78f82",
   "metadata": {},
   "outputs": [
    {
     "name": "stdout",
     "output_type": "stream",
     "text": [
      "2\n",
      "3\n",
      "5\n",
      "7\n",
      "11\n",
      "13\n",
      "17\n",
      "19\n",
      "23\n",
      "29\n",
      "31\n",
      "37\n",
      "41\n",
      "43\n",
      "47\n",
      "53\n",
      "59\n",
      "61\n",
      "67\n",
      "71\n"
     ]
    }
   ],
   "source": [
    "def is_prime(num):\n",
    "    if num <= 1:\n",
    "        return False\n",
    "    if num <= 3:\n",
    "        return True\n",
    "    if num % 2 == 0 or num % 3 == 0:\n",
    "        return False\n",
    "    i = 5\n",
    "    while i * i <= num:\n",
    "        if num % i == 0 or num % (i + 2) == 0:\n",
    "            return False\n",
    "        i += 6\n",
    "    return True\n",
    "\n",
    "def prime_generator():\n",
    "    num = 2\n",
    "    count = 0\n",
    "    while num < 1000 and count < 20:\n",
    "        if is_prime(num):\n",
    "            yield num\n",
    "            count += 1\n",
    "        num += 1\n",
    "\n",
    "# Create a generator object for prime numbers\n",
    "prime_gen = prime_generator()\n",
    "\n",
    "# Use the next() method to print the first 20 prime numbers\n",
    "for i in range(20):\n",
    "    prime = next(prime_gen)\n",
    "    print(prime)\n"
   ]
  },
  {
   "cell_type": "code",
   "execution_count": null,
   "id": "a5e45665-e48f-4115-9439-1f9f42a3e460",
   "metadata": {},
   "outputs": [],
   "source": []
  }
 ],
 "metadata": {
  "kernelspec": {
   "display_name": "Python 3 (ipykernel)",
   "language": "python",
   "name": "python3"
  },
  "language_info": {
   "codemirror_mode": {
    "name": "ipython",
    "version": 3
   },
   "file_extension": ".py",
   "mimetype": "text/x-python",
   "name": "python",
   "nbconvert_exporter": "python",
   "pygments_lexer": "ipython3",
   "version": "3.10.8"
  }
 },
 "nbformat": 4,
 "nbformat_minor": 5
}
