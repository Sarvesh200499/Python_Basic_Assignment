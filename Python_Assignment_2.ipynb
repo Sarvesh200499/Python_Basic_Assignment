{
 "cells": [
  {
   "cell_type": "markdown",
   "id": "9b426a66-c23c-4aac-92d4-29a2946f875e",
   "metadata": {},
   "source": [
    "Q1. How do you comment code in Python? What are the different types of comments?"
   ]
  },
  {
   "cell_type": "markdown",
   "id": "17650207-bfc5-4b4c-a3fc-76cb3c77e587",
   "metadata": {},
   "source": [
    "There are three types of comments:\n",
    "- Single line Comments\n",
    "- Multiline Comments"
   ]
  },
  {
   "cell_type": "code",
   "execution_count": 5,
   "id": "d8cdd197-2b3e-4128-94fd-5ee039aebcc2",
   "metadata": {},
   "outputs": [],
   "source": [
    "# single line comment\n"
   ]
  },
  {
   "cell_type": "code",
   "execution_count": 11,
   "id": "b514e38c-31c6-4e2c-888e-583a2cb8a1b3",
   "metadata": {},
   "outputs": [
    {
     "name": "stdout",
     "output_type": "stream",
     "text": [
      "10\n"
     ]
    }
   ],
   "source": [
    "\"\"\" Multi line\n",
    "comments \"\"\"\n",
    "a = 10\n",
    "print(a)"
   ]
  },
  {
   "cell_type": "markdown",
   "id": "a1406b4a-5a21-406c-b4e1-f3abb43f3b44",
   "metadata": {},
   "source": [
    "Q2. What are variables in Python? How do you declare and assign values to variables?"
   ]
  },
  {
   "cell_type": "markdown",
   "id": "a3e62c9e-4ccc-4683-ac5b-d789c92dc9fb",
   "metadata": {},
   "source": [
    "Python Variable is containers that store values. We do not need to declare variables before using them or declare their type. We assign values to the variables using \" = \". "
   ]
  },
  {
   "cell_type": "code",
   "execution_count": 17,
   "id": "d6731331-8420-4b43-b59f-182b8f4f4c3e",
   "metadata": {},
   "outputs": [
    {
     "name": "stdout",
     "output_type": "stream",
     "text": [
      "<class 'int'>\n",
      "<class 'str'>\n",
      "<class 'float'>\n",
      "<class 'bool'>\n",
      "<class 'complex'>\n"
     ]
    }
   ],
   "source": [
    "a = 10\n",
    "b = 'data science'\n",
    "c = 2.5\n",
    "d = True\n",
    "e = 4 + 7j\n",
    "\n",
    "print(type(a))\n",
    "print(type(b))\n",
    "print(type(c))\n",
    "print(type(d))\n",
    "print(type(e))"
   ]
  },
  {
   "cell_type": "markdown",
   "id": "1ace2273-807e-4b0b-85bc-94b8626b08a2",
   "metadata": {},
   "source": [
    "Q3. How do you convert one data type to another in Python?"
   ]
  },
  {
   "cell_type": "markdown",
   "id": "2dfd1a6a-01d7-4b54-87ba-6c1863d74270",
   "metadata": {},
   "source": [
    "There can be two types of type conversion in Python:\n",
    "\n",
    "- Implicit Type Conversion:\n",
    "It is a type of type conversion in which handles automatically convert one data type to another without any user involvement.\n",
    "\n",
    "- Explicit Type Conversion:\n",
    "In Explicit type conversion, user involvement is required. The user converts one data type to another according to his own need. This can be done with the help of str(), int(), float(), etc."
   ]
  },
  {
   "cell_type": "code",
   "execution_count": 19,
   "id": "e56fbed5-9d04-42c1-8a0e-80875ab353b1",
   "metadata": {},
   "outputs": [
    {
     "name": "stdout",
     "output_type": "stream",
     "text": [
      "<class 'int'>\n",
      "<class 'float'>\n",
      "<class 'float'>\n"
     ]
    }
   ],
   "source": [
    "#Implicit Type Conversion\n",
    "a = 10\n",
    "b = 3.7\n",
    "c = a+b\n",
    "\n",
    "print(type(a))\n",
    "print(type(b))\n",
    "print(type(c))"
   ]
  },
  {
   "cell_type": "code",
   "execution_count": 21,
   "id": "70fef04d-19f7-45bd-b12b-669179091882",
   "metadata": {},
   "outputs": [
    {
     "name": "stdout",
     "output_type": "stream",
     "text": [
      "<class 'int'>\n",
      "<class 'str'>\n"
     ]
    }
   ],
   "source": [
    "#Explicit Type Conversion\n",
    "\n",
    "h = 10\n",
    "print(type(h))\n",
    "i = str(h)\n",
    "print(type(i))"
   ]
  },
  {
   "cell_type": "markdown",
   "id": "c369eb19-d5a0-42b9-975e-4081ec5aa8f9",
   "metadata": {},
   "source": [
    "Q4. How do you write and execute a Python script from the command line?"
   ]
  },
  {
   "attachments": {
    "5b84610a-c839-46d3-aa2a-b8aca5f94f47.png": {
     "image/png": "[encoded data removed]"
    }
   },
   "cell_type": "markdown",
   "id": "0bdfd637-a812-4e07-a937-b6f318d60f53",
   "metadata": {},
   "source": [
    "![image.png](attachment:5b84610a-c839-46d3-aa2a-b8aca5f94f47.png)"
   ]
  },
  {
   "cell_type": "markdown",
   "id": "0fab9529-d00e-4dc8-b0fd-53f17a3022e8",
   "metadata": {},
   "source": [
    "Q5. Given a list my_list = [1, 2, 3, 4, 5], write the code to slice the list and obtain the sub-list [2, 3]."
   ]
  },
  {
   "cell_type": "code",
   "execution_count": 25,
   "id": "af89ac02-3323-4d58-9b30-ee605af0021d",
   "metadata": {},
   "outputs": [
    {
     "name": "stdout",
     "output_type": "stream",
     "text": [
      "[2, 3]\n"
     ]
    }
   ],
   "source": [
    "my_list = [1,2,3,4]\n",
    "sub_list = my_list[1:3]\n",
    "print(sub_list)"
   ]
  },
  {
   "cell_type": "markdown",
   "id": "2873be77-3877-4931-8618-f2ee23306ef5",
   "metadata": {},
   "source": [
    "Q6. What is a complex number in mathematics, and how is it represented in Python?"
   ]
  },
  {
   "cell_type": "markdown",
   "id": "b30064ca-5de7-43fc-a794-a001afc8fe18",
   "metadata": {},
   "source": [
    "A complex number is created from real numbers. Python complex number can be created either using direct assignment statement or by using complex () function."
   ]
  },
  {
   "cell_type": "code",
   "execution_count": 26,
   "id": "62d30740-206e-4a34-b37d-9e85a3fff7e5",
   "metadata": {},
   "outputs": [
    {
     "name": "stdout",
     "output_type": "stream",
     "text": [
      "(2+7j)\n",
      "(3+8j)\n",
      "<class 'complex'>\n",
      "<class 'complex'>\n"
     ]
    }
   ],
   "source": [
    "a = 2+7j\n",
    "\n",
    "b = complex(3, 8)\n",
    "\n",
    "print(a)\n",
    "print(b)\n",
    "print(type(a))\n",
    "print(type(b))"
   ]
  },
  {
   "cell_type": "markdown",
   "id": "f8029598-b28c-4efe-b6fc-dc9e0256c3d9",
   "metadata": {},
   "source": [
    "Q7. What is the correct way to declare a variable named age and assign the value 25 to it?"
   ]
  },
  {
   "cell_type": "code",
   "execution_count": 30,
   "id": "5144eb33-2879-4984-bd2f-28f1f757453d",
   "metadata": {},
   "outputs": [
    {
     "name": "stdout",
     "output_type": "stream",
     "text": [
      "<class 'int'>\n",
      "25\n"
     ]
    }
   ],
   "source": [
    "age = 25\n",
    "print(type(age))\n",
    "print(age)"
   ]
  },
  {
   "cell_type": "markdown",
   "id": "921bf250-cf29-48c3-9fc2-9cdf2394b35b",
   "metadata": {},
   "source": [
    "Q8. Declare a variable named price and assign the value 9.99 to it. What data type does this variable\n",
    "belong to?"
   ]
  },
  {
   "cell_type": "code",
   "execution_count": 31,
   "id": "5304d46d-2ffd-42be-9118-d45a85282067",
   "metadata": {},
   "outputs": [
    {
     "name": "stdout",
     "output_type": "stream",
     "text": [
      "<class 'float'>\n",
      "9.99\n"
     ]
    }
   ],
   "source": [
    "price = 9.99\n",
    "print(type(price))\n",
    "print(price)"
   ]
  },
  {
   "cell_type": "markdown",
   "id": "82866d53-3387-4c31-899d-63da0fd5385b",
   "metadata": {},
   "source": [
    "Q9. Create a variable named name and assign your full name to it as a string. How would you print the\n",
    "value of this variable?"
   ]
  },
  {
   "cell_type": "code",
   "execution_count": 33,
   "id": "2cffb2f5-fe42-48cb-801d-645c42da43eb",
   "metadata": {},
   "outputs": [
    {
     "name": "stdout",
     "output_type": "stream",
     "text": [
      "Sarvesh Uday Gurav\n",
      "<class 'str'>\n"
     ]
    }
   ],
   "source": [
    "name = 'Sarvesh Uday Gurav'\n",
    "print(name)\n",
    "print(type(name))"
   ]
  },
  {
   "cell_type": "markdown",
   "id": "3b6487e0-9aed-4878-8f50-4d9cff85780b",
   "metadata": {},
   "source": [
    "Q10. Given the string \"Hello, World!\", extract the substring \"World\"."
   ]
  },
  {
   "cell_type": "code",
   "execution_count": 39,
   "id": "4ceaedd7-ded1-47c1-9e96-4b052ef5ec2e",
   "metadata": {},
   "outputs": [
    {
     "name": "stdout",
     "output_type": "stream",
     "text": [
      "World\n"
     ]
    }
   ],
   "source": [
    "a = 'Hello, World!'\n",
    "\n",
    "print(a[7:-1])"
   ]
  },
  {
   "cell_type": "markdown",
   "id": "4e79bcfb-ebe6-4843-9312-e5f29afd9a93",
   "metadata": {},
   "source": [
    "Q11. Create a variable named \"is_student\" and assign it a boolean value indicating whether you are\n",
    "currently a student or not."
   ]
  },
  {
   "cell_type": "code",
   "execution_count": 40,
   "id": "8c5be50e-7a9b-473a-943b-2afd4b2f692c",
   "metadata": {},
   "outputs": [
    {
     "name": "stdout",
     "output_type": "stream",
     "text": [
      "False\n",
      "<class 'bool'>\n"
     ]
    }
   ],
   "source": [
    "is_student = False\n",
    "\n",
    "print(is_student)\n",
    "print(type(is_student))"
   ]
  }
 ],
 "metadata": {
  "kernelspec": {
   "display_name": "Python 3 (ipykernel)",
   "language": "python",
   "name": "python3"
  },
  "language_info": {
   "codemirror_mode": {
    "name": "ipython",
    "version": 3
   },
   "file_extension": ".py",
   "mimetype": "text/x-python",
   "name": "python",
   "nbconvert_exporter": "python",
   "pygments_lexer": "ipython3",
   "version": "3.10.8"
  }
 },
 "nbformat": 4,
 "nbformat_minor": 5
}
