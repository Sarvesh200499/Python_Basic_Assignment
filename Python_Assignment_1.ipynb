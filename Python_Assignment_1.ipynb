{
 "cells": [
  {
   "cell_type": "markdown",
   "id": "fcc4b93f-56c2-4a56-8faf-5290bd483953",
   "metadata": {},
   "source": [
    "Q1. Create one variable containing following type of data: (i) string\n",
    "(ii) list\n",
    "(iii) float\n",
    "(iv) tuple"
   ]
  },
  {
   "cell_type": "code",
   "execution_count": 2,
   "id": "f9d51eee-09d9-468f-b241-446e0d0243a6",
   "metadata": {},
   "outputs": [],
   "source": [
    "a = [\"Hello\", [1,2,3], 4.6, ('apple', 'mango', 'orange')]"
   ]
  },
  {
   "cell_type": "markdown",
   "id": "39c74605-daf0-49a9-88f5-1036339db852",
   "metadata": {},
   "source": [
    "Q2. Given are some following variables containing data:\n",
    "(i) var1 = ‘ ‘\n",
    "(ii) var2 = ‘[ DS , ML , Python]’\n",
    "(iii) var3 = [ ‘DS’ , ’ML’ , ‘Python’ ]\n",
    "(iv) var4 = 1.\n",
    "What will be the data type of the above given variable."
   ]
  },
  {
   "cell_type": "code",
   "execution_count": 5,
   "id": "c896dbdf-676a-46c1-b0bf-48f8c624ed7e",
   "metadata": {},
   "outputs": [],
   "source": [
    "var1 = ' '"
   ]
  },
  {
   "cell_type": "code",
   "execution_count": 6,
   "id": "08226459-2f41-4635-bed1-1c701dae1d35",
   "metadata": {},
   "outputs": [],
   "source": [
    "var2 = '[ DS , ML , Python]'"
   ]
  },
  {
   "cell_type": "code",
   "execution_count": 8,
   "id": "3b4fb7ad-291d-4d19-b896-f336640d4c09",
   "metadata": {},
   "outputs": [],
   "source": [
    "var3 = [ 'DS' , 'ML' , 'Python' ]"
   ]
  },
  {
   "cell_type": "code",
   "execution_count": 9,
   "id": "29ec92b6-dbde-48f2-8a92-71b4c70caba0",
   "metadata": {},
   "outputs": [],
   "source": [
    "var4 = 1"
   ]
  },
  {
   "cell_type": "markdown",
   "id": "7344a4a4-7029-4cb7-beba-188dc202d90f",
   "metadata": {},
   "source": [
    "var1 - string,\n",
    "var2 - string,\n",
    "var3 - list,\n",
    "var4 - integer"
   ]
  },
  {
   "cell_type": "markdown",
   "id": "afc8b022-e34f-4c83-82b1-b90dadc4dc13",
   "metadata": {},
   "source": [
    "Q3. Explain the use of the following operators using an example:"
   ]
  },
  {
   "cell_type": "markdown",
   "id": "ad42e64a-708c-435d-bddb-9884907f7eb5",
   "metadata": {},
   "source": [
    "1) / Division \n",
    "2) % Modulus\n",
    "3) // Floor division\n",
    "4) ** Exponentiation "
   ]
  },
  {
   "cell_type": "markdown",
   "id": "e8f457bd-07d9-4477-8f45-ba2c05e1a15f",
   "metadata": {},
   "source": [
    "Q4. Create a list of length 10 of your choice containing multiple types of data. Using for loop print the\n",
    "element and its data type."
   ]
  },
  {
   "cell_type": "code",
   "execution_count": 16,
   "id": "11dd3c10-08d0-46f3-94ee-c5579e2941ab",
   "metadata": {},
   "outputs": [
    {
     "name": "stdout",
     "output_type": "stream",
     "text": [
      "1\n",
      "<class 'int'>\n",
      "2.3\n",
      "<class 'float'>\n",
      "(3+4j)\n",
      "<class 'complex'>\n",
      "Hello\n",
      "<class 'str'>\n",
      "('apple', 'mango', 'orange')\n",
      "<class 'tuple'>\n",
      "['bat', 'ball', 'stumps']\n",
      "<class 'list'>\n",
      "True\n",
      "<class 'bool'>\n",
      "{'name': 'Ram', 'age': 26}\n",
      "<class 'dict'>\n",
      "{'water', 'fire'}\n",
      "<class 'set'>\n",
      "None\n",
      "<class 'NoneType'>\n"
     ]
    }
   ],
   "source": [
    "b = [1, 2.3, 3+4j, \"Hello\", ('apple', 'mango', 'orange'), ['bat', 'ball', 'stumps'], True, {\"name\" : \"Ram\", \"age\" : 26}, {'water', 'fire'}, None]\n",
    "for i in b:\n",
    "    print(i)\n",
    "    print(type(i))"
   ]
  },
  {
   "cell_type": "markdown",
   "id": "66f11c6e-37d7-480e-850a-d92a743b48f9",
   "metadata": {},
   "source": [
    "Q5. Using a while loop, verify if the number A is purely divisible by number B and if so then how many\n",
    "times it can be divisible."
   ]
  },
  {
   "cell_type": "code",
   "execution_count": 19,
   "id": "938c2dac-a4cc-4d1b-9c58-1ada807dd3b7",
   "metadata": {},
   "outputs": [
    {
     "name": "stdin",
     "output_type": "stream",
     "text": [
      "Enter number a:  16\n",
      "Enter number b:  4\n"
     ]
    },
    {
     "name": "stdout",
     "output_type": "stream",
     "text": [
      " 16 is purely divisible by number 4 and can be divided 2 times.\n"
     ]
    }
   ],
   "source": [
    "a = int(input(\"Enter number a: \"))\n",
    "b = int(input(\"Enter number b: \"))\n",
    "temp = a\n",
    "count = 0\n",
    "\n",
    "while a % b == 0:\n",
    "    count +=1\n",
    "    a = a / b\n",
    "\n",
    "    \n",
    "if a == 1:\n",
    "    print(f\" {temp} is purely divisible by number {b} and can be divided {count} times.\")\n",
    "else:\n",
    "    print(f\" {temp} is not purely divisible by {b}\")"
   ]
  },
  {
   "cell_type": "markdown",
   "id": "cc1877ec-2c68-4eff-b90d-2996a07c8ebf",
   "metadata": {},
   "source": [
    "Q6. Create a list containing 25 int type data. Using for loop and if-else condition print if the element is\n",
    "divisible by 3 or not."
   ]
  },
  {
   "cell_type": "code",
   "execution_count": 22,
   "id": "ae9b6801-d731-4235-b4c4-4599d452884f",
   "metadata": {},
   "outputs": [
    {
     "name": "stdout",
     "output_type": "stream",
     "text": [
      "1 is not divisible by 3\n",
      "3 is divisible by 3\n",
      "7 is not divisible by 3\n",
      "9 is divisible by 3\n",
      "11 is not divisible by 3\n",
      "15 is divisible by 3\n",
      "17 is not divisible by 3\n",
      "25 is not divisible by 3\n",
      "27 is divisible by 3\n",
      "34 is not divisible by 3\n",
      "36 is divisible by 3\n",
      "40 is not divisible by 3\n",
      "44 is not divisible by 3\n",
      "47 is not divisible by 3\n",
      "51 is divisible by 3\n",
      "55 is not divisible by 3\n",
      "59 is not divisible by 3\n",
      "60 is divisible by 3\n",
      "65 is not divisible by 3\n",
      "68 is not divisible by 3\n",
      "71 is not divisible by 3\n",
      "72 is divisible by 3\n",
      "77 is not divisible by 3\n",
      "83 is not divisible by 3\n",
      "84 is divisible by 3\n"
     ]
    }
   ],
   "source": [
    "l = [1,3,7,9,11,15,17,25,27,34,36,40,44,47,51,55,59,60,65,68,71,72,77,83,84]\n",
    "\n",
    "for i in l:\n",
    "    if i % 3 == 0:\n",
    "        print(f\"{i} is divisible by 3\")\n",
    "    else:\n",
    "        print(f\"{i} is not divisible by 3\")"
   ]
  },
  {
   "cell_type": "markdown",
   "id": "d4bf09b2-a3a1-4931-98cd-f72a6818d47c",
   "metadata": {},
   "source": [
    "Q7. What do you understand about mutable and immutable data types? Give examples for both showing\n",
    "this property."
   ]
  },
  {
   "cell_type": "markdown",
   "id": "5751adb5-7fe2-4d25-8a31-1242070e4a56",
   "metadata": {},
   "source": [
    "Immutable Data Types:\n",
    "\n",
    "Immutable data types are those whose values cannot be changed after they are created.\n",
    "\n",
    "Immutable Data Types:\n",
    "\n",
    "Immutable data types are those whose values cannot be changed after they are created."
   ]
  },
  {
   "cell_type": "code",
   "execution_count": 24,
   "id": "48fb0cdc-a818-405b-a761-42cf38bf7fea",
   "metadata": {},
   "outputs": [
    {
     "ename": "TypeError",
     "evalue": "'tuple' object does not support item assignment",
     "output_type": "error",
     "traceback": [
      "\u001b[0;31m---------------------------------------------------------------------------\u001b[0m",
      "\u001b[0;31mTypeError\u001b[0m                                 Traceback (most recent call last)",
      "Cell \u001b[0;32mIn[24], line 4\u001b[0m\n\u001b[1;32m      1\u001b[0m \u001b[38;5;66;03m#example of Immutable data type\u001b[39;00m\n\u001b[1;32m      3\u001b[0m t \u001b[38;5;241m=\u001b[39m (\u001b[38;5;241m1\u001b[39m,\u001b[38;5;241m2\u001b[39m,\u001b[38;5;241m3\u001b[39m)\n\u001b[0;32m----> 4\u001b[0m \u001b[43mt\u001b[49m\u001b[43m[\u001b[49m\u001b[38;5;241;43m0\u001b[39;49m\u001b[43m]\u001b[49m \u001b[38;5;241m=\u001b[39m \u001b[38;5;241m4\u001b[39m\n",
      "\u001b[0;31mTypeError\u001b[0m: 'tuple' object does not support item assignment"
     ]
    }
   ],
   "source": [
    "#example of Immutable data type\n",
    "\n",
    "t = (1,2,3)\n",
    "t[0] = 4\n",
    "\n"
   ]
  },
  {
   "cell_type": "code",
   "execution_count": 25,
   "id": "2d21d4c5-b63b-4bd2-bbc6-7ec68414c709",
   "metadata": {},
   "outputs": [
    {
     "name": "stdout",
     "output_type": "stream",
     "text": [
      "[1, 2, 3]\n",
      "[4, 2, 3]\n"
     ]
    }
   ],
   "source": [
    "#example of Mutable data type\n",
    "\n",
    "l = [1,2,3]\n",
    "print(l)\n",
    "l[0] = 4\n",
    "print(l)"
   ]
  }
 ],
 "metadata": {
  "kernelspec": {
   "display_name": "Python 3 (ipykernel)",
   "language": "python",
   "name": "python3"
  },
  "language_info": {
   "codemirror_mode": {
    "name": "ipython",
    "version": 3
   },
   "file_extension": ".py",
   "mimetype": "text/x-python",
   "name": "python",
   "nbconvert_exporter": "python",
   "pygments_lexer": "ipython3",
   "version": "3.10.8"
  }
 },
 "nbformat": 4,
 "nbformat_minor": 5
}
